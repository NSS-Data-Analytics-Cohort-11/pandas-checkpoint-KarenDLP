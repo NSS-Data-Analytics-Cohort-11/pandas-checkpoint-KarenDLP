{
 "cells": [
  {
   "cell_type": "code",
   "execution_count": 91,
   "id": "fab72705",
   "metadata": {},
   "outputs": [],
   "source": [
    "from sqlalchemy import create_engine, text\n",
    "import pandas as pd\n",
    "import datetime\n",
    "import psycopg2\n",
    "import matplotlib.pyplot as plt\n",
    "import seaborn as sns\n",
    "import numpy as np"
   ]
  },
  {
   "cell_type": "code",
   "execution_count": 92,
   "id": "3bf1ec27",
   "metadata": {},
   "outputs": [],
   "source": [
    " # 1. Create a new dataframe named \"movies_df\" consisting of only movies."
   ]
  },
  {
   "cell_type": "code",
   "execution_count": 93,
   "id": "aa7ba20c",
   "metadata": {},
   "outputs": [],
   "source": [
    "df = pd.read_csv('disney_plus.csv')"
   ]
  },
  {
   "cell_type": "code",
   "execution_count": 94,
   "id": "2c92941c",
   "metadata": {},
   "outputs": [
    {
     "data": {
      "text/html": [
       "<div>\n",
       "<style scoped>\n",
       "    .dataframe tbody tr th:only-of-type {\n",
       "        vertical-align: middle;\n",
       "    }\n",
       "\n",
       "    .dataframe tbody tr th {\n",
       "        vertical-align: top;\n",
       "    }\n",
       "\n",
       "    .dataframe thead th {\n",
       "        text-align: right;\n",
       "    }\n",
       "</style>\n",
       "<table border=\"1\" class=\"dataframe\">\n",
       "  <thead>\n",
       "    <tr style=\"text-align: right;\">\n",
       "      <th></th>\n",
       "      <th>show_id</th>\n",
       "      <th>type</th>\n",
       "      <th>title</th>\n",
       "      <th>director</th>\n",
       "      <th>cast</th>\n",
       "      <th>country</th>\n",
       "      <th>date_added</th>\n",
       "      <th>release_year</th>\n",
       "      <th>rating</th>\n",
       "      <th>duration</th>\n",
       "      <th>listed_in</th>\n",
       "      <th>description</th>\n",
       "      <th>duration_units</th>\n",
       "    </tr>\n",
       "  </thead>\n",
       "  <tbody>\n",
       "    <tr>\n",
       "      <th>0</th>\n",
       "      <td>s1</td>\n",
       "      <td>Movie</td>\n",
       "      <td>A Spark Story</td>\n",
       "      <td>Jason Sterman, Leanne Dare</td>\n",
       "      <td>Apthon Corbin, Louis Gonzales</td>\n",
       "      <td>NaN</td>\n",
       "      <td>September 24, 2021</td>\n",
       "      <td>2021</td>\n",
       "      <td>TV-PG</td>\n",
       "      <td>88</td>\n",
       "      <td>Documentary</td>\n",
       "      <td>Two Pixar filmmakers strive to bring their uni...</td>\n",
       "      <td>min</td>\n",
       "    </tr>\n",
       "    <tr>\n",
       "      <th>1</th>\n",
       "      <td>s2</td>\n",
       "      <td>Movie</td>\n",
       "      <td>Spooky Buddies</td>\n",
       "      <td>Robert Vince</td>\n",
       "      <td>Tucker Albrizzi, Diedrich Bader, Ameko Eks Mas...</td>\n",
       "      <td>United States, Canada</td>\n",
       "      <td>September 24, 2021</td>\n",
       "      <td>2011</td>\n",
       "      <td>G</td>\n",
       "      <td>93</td>\n",
       "      <td>Comedy, Fantasy, Kids</td>\n",
       "      <td>The puppies go on a spooky adventure through a...</td>\n",
       "      <td>min</td>\n",
       "    </tr>\n",
       "    <tr>\n",
       "      <th>2</th>\n",
       "      <td>s3</td>\n",
       "      <td>Movie</td>\n",
       "      <td>The Fault in Our Stars</td>\n",
       "      <td>Josh Boone</td>\n",
       "      <td>Shailene Woodley, Ansel Elgort, Laura Dern, Sa...</td>\n",
       "      <td>United States</td>\n",
       "      <td>September 24, 2021</td>\n",
       "      <td>2014</td>\n",
       "      <td>PG-13</td>\n",
       "      <td>127</td>\n",
       "      <td>Coming of Age, Drama, Romance</td>\n",
       "      <td>Hazel and Gus share a love that sweeps them on...</td>\n",
       "      <td>min</td>\n",
       "    </tr>\n",
       "    <tr>\n",
       "      <th>3</th>\n",
       "      <td>s4</td>\n",
       "      <td>TV Show</td>\n",
       "      <td>Dog: Impossible</td>\n",
       "      <td>NaN</td>\n",
       "      <td>Matt Beisner</td>\n",
       "      <td>United States</td>\n",
       "      <td>September 22, 2021</td>\n",
       "      <td>2019</td>\n",
       "      <td>TV-PG</td>\n",
       "      <td>2</td>\n",
       "      <td>Animals &amp; Nature, Docuseries, Family</td>\n",
       "      <td>Matt Beisner uses unique approaches to modifyi...</td>\n",
       "      <td>Seasons</td>\n",
       "    </tr>\n",
       "    <tr>\n",
       "      <th>4</th>\n",
       "      <td>s5</td>\n",
       "      <td>TV Show</td>\n",
       "      <td>Spidey And His Amazing Friends</td>\n",
       "      <td>NaN</td>\n",
       "      <td>Benjamin Valic, Lily Sanfelippo, Jakari Fraser...</td>\n",
       "      <td>United States</td>\n",
       "      <td>September 22, 2021</td>\n",
       "      <td>2021</td>\n",
       "      <td>TV-Y</td>\n",
       "      <td>1</td>\n",
       "      <td>Action-Adventure, Animation, Kids</td>\n",
       "      <td>Spidey teams up with pals to become The Spidey...</td>\n",
       "      <td>Season</td>\n",
       "    </tr>\n",
       "  </tbody>\n",
       "</table>\n",
       "</div>"
      ],
      "text/plain": [
       "  show_id     type                           title  \\\n",
       "0      s1    Movie                   A Spark Story   \n",
       "1      s2    Movie                  Spooky Buddies   \n",
       "2      s3    Movie          The Fault in Our Stars   \n",
       "3      s4  TV Show                 Dog: Impossible   \n",
       "4      s5  TV Show  Spidey And His Amazing Friends   \n",
       "\n",
       "                     director  \\\n",
       "0  Jason Sterman, Leanne Dare   \n",
       "1                Robert Vince   \n",
       "2                  Josh Boone   \n",
       "3                         NaN   \n",
       "4                         NaN   \n",
       "\n",
       "                                                cast                country  \\\n",
       "0                      Apthon Corbin, Louis Gonzales                    NaN   \n",
       "1  Tucker Albrizzi, Diedrich Bader, Ameko Eks Mas...  United States, Canada   \n",
       "2  Shailene Woodley, Ansel Elgort, Laura Dern, Sa...          United States   \n",
       "3                                       Matt Beisner          United States   \n",
       "4  Benjamin Valic, Lily Sanfelippo, Jakari Fraser...          United States   \n",
       "\n",
       "           date_added  release_year rating  duration  \\\n",
       "0  September 24, 2021          2021  TV-PG        88   \n",
       "1  September 24, 2021          2011      G        93   \n",
       "2  September 24, 2021          2014  PG-13       127   \n",
       "3  September 22, 2021          2019  TV-PG         2   \n",
       "4  September 22, 2021          2021   TV-Y         1   \n",
       "\n",
       "                              listed_in  \\\n",
       "0                           Documentary   \n",
       "1                 Comedy, Fantasy, Kids   \n",
       "2         Coming of Age, Drama, Romance   \n",
       "3  Animals & Nature, Docuseries, Family   \n",
       "4     Action-Adventure, Animation, Kids   \n",
       "\n",
       "                                         description duration_units  \n",
       "0  Two Pixar filmmakers strive to bring their uni...            min  \n",
       "1  The puppies go on a spooky adventure through a...            min  \n",
       "2  Hazel and Gus share a love that sweeps them on...            min  \n",
       "3  Matt Beisner uses unique approaches to modifyi...        Seasons  \n",
       "4  Spidey teams up with pals to become The Spidey...         Season  "
      ]
     },
     "execution_count": 94,
     "metadata": {},
     "output_type": "execute_result"
    }
   ],
   "source": [
    "df.head()"
   ]
  },
  {
   "cell_type": "code",
   "execution_count": 95,
   "id": "446ed06d",
   "metadata": {},
   "outputs": [],
   "source": [
    "# column_name = {'type': ['Movie']}\n",
    "\n",
    "# movie_df = pd.DataFrame(column_name)"
   ]
  },
  {
   "cell_type": "code",
   "execution_count": 96,
   "id": "aec3730c",
   "metadata": {},
   "outputs": [],
   "source": [
    "# print(movie_df)"
   ]
  },
  {
   "cell_type": "code",
   "execution_count": 97,
   "id": "fc574cd0",
   "metadata": {},
   "outputs": [
    {
     "name": "stdout",
     "output_type": "stream",
     "text": [
      "     show_id   type                                     title  \\\n",
      "0         s1  Movie                             A Spark Story   \n",
      "1         s2  Movie                            Spooky Buddies   \n",
      "2         s3  Movie                    The Fault in Our Stars   \n",
      "6         s7  Movie               Confessions of a Shopaholic   \n",
      "7         s8  Movie                Descendants: Royal Wedding   \n",
      "...      ...    ...                                       ...   \n",
      "1359   s1360  Movie  Lady and the Tramp II: Scamp's Adventure   \n",
      "1361   s1362  Movie                  The Cat from Outer Space   \n",
      "1362   s1363  Movie                 The Great Mouse Detective   \n",
      "1363   s1364  Movie                    The Sword in the Stone   \n",
      "1364   s1365  Movie                           Those Calloways   \n",
      "\n",
      "                                      director  \\\n",
      "0                   Jason Sterman, Leanne Dare   \n",
      "1                                 Robert Vince   \n",
      "2                                   Josh Boone   \n",
      "6                                   P.J. Hogan   \n",
      "7                                Salvador Simó   \n",
      "...                                        ...   \n",
      "1359                            Darrell Rooney   \n",
      "1361                              Norman Tokar   \n",
      "1362  John Musker, Ron Clements, Dave Michener   \n",
      "1363                       Wolfgang Reitherman   \n",
      "1364                              Norman Tokar   \n",
      "\n",
      "                                                   cast  \\\n",
      "0                         Apthon Corbin, Louis Gonzales   \n",
      "1     Tucker Albrizzi, Diedrich Bader, Ameko Eks Mas...   \n",
      "2     Shailene Woodley, Ansel Elgort, Laura Dern, Sa...   \n",
      "6     Isla Fisher, Hugh Dancy, Joan Cusack, John Goo...   \n",
      "7     Dove Cameron, Sofia Carson, Booboo Stewart, Mi...   \n",
      "...                                                 ...   \n",
      "1359  Scott Wolf, Alyssa Milano, Chazz Palminteri, J...   \n",
      "1361  Ken Berry, Sandy Duncan, Harry Morgan, Roddy M...   \n",
      "1362  Vincent Price, Barrie Ingham, Val Bettin, Susa...   \n",
      "1363  Sebastian Cabot, Karl Swenson, Rickie Sorensen...   \n",
      "1364  Brian Keith, Vera Miles, Brandon de Wilde, Wal...   \n",
      "\n",
      "                       country          date_added  release_year rating  \\\n",
      "0                          NaN  September 24, 2021          2021  TV-PG   \n",
      "1        United States, Canada  September 24, 2021          2011      G   \n",
      "2                United States  September 24, 2021          2014  PG-13   \n",
      "6                United States  September 17, 2021          2009     PG   \n",
      "7                          NaN  September 17, 2021          2021   TV-G   \n",
      "...                        ...                 ...           ...    ...   \n",
      "1359  United States, Australia     October 1, 2019          2001      G   \n",
      "1361             United States     October 1, 2019          1978      G   \n",
      "1362             United States     October 1, 2019          1986      G   \n",
      "1363             United States     October 1, 2019          1963      G   \n",
      "1364             United States     October 1, 2019          1965     PG   \n",
      "\n",
      "      duration                                   listed_in  \\\n",
      "0           88                                 Documentary   \n",
      "1           93                       Comedy, Fantasy, Kids   \n",
      "2          127               Coming of Age, Drama, Romance   \n",
      "6          106            Comedy, Romance, Romantic Comedy   \n",
      "7           22                 Animation, Fantasy, Musical   \n",
      "...        ...                                         ...   \n",
      "1359        73  Action-Adventure, Animation, Coming of Age   \n",
      "1361       104             Comedy, Family, Science Fiction   \n",
      "1362        75                  Animation, Family, Mystery   \n",
      "1363        80         Action-Adventure, Animation, Comedy   \n",
      "1364       132             Animals & Nature, Drama, Family   \n",
      "\n",
      "                                            description duration_units  \n",
      "0     Two Pixar filmmakers strive to bring their uni...            min  \n",
      "1     The puppies go on a spooky adventure through a...            min  \n",
      "2     Hazel and Gus share a love that sweeps them on...            min  \n",
      "6     Becky writes a personal finance column en rout...            min  \n",
      "7                Mal and Ben’s wedding is finally here!            min  \n",
      "...                                                 ...            ...  \n",
      "1359  Itching for freedom, Lady's pup Scamp joins up...            min  \n",
      "1361  A physicist tries to help an alien cat after i...            min  \n",
      "1362  A super-sleuth mouse must solve a toy maker's ...            min  \n",
      "1363  Merlin trains a young orphan who's destined to...            min  \n",
      "1364  A strong-willed family struggles to establish ...            min  \n",
      "\n",
      "[991 rows x 13 columns]\n"
     ]
    }
   ],
   "source": [
    "column_name = 'type'\n",
    "desired_value = 'Movie'\n",
    "movie_df = df[df[column_name] == desired_value]\n",
    "print (movie_df)"
   ]
  },
  {
   "cell_type": "markdown",
   "id": "c6376cc2",
   "metadata": {},
   "source": [
    "# 2. Create a new dataframe named \"movie_ratings\" from movies_df that consists of the top 5 ratings by count. This dataframe should consist of only two columns, rating and count.\n"
   ]
  },
  {
   "cell_type": "code",
   "execution_count": 98,
   "id": "fe31295e",
   "metadata": {},
   "outputs": [
    {
     "name": "stdout",
     "output_type": "stream",
     "text": [
      "          count\n",
      "rating         \n",
      "G           235\n",
      "PG          226\n",
      "TV-G        224\n",
      "TV-PG       165\n",
      "PG-13        60\n",
      "TV-14        36\n",
      "TV-Y7        36\n",
      "TV-Y7-FV      6\n",
      "TV-Y          2\n"
     ]
    }
   ],
   "source": [
    "count_rating = movie_df['rating'].value_counts(ascending = False) \n",
    "movie_rating = pd.DataFrame(count_rating)\n",
    "        \n",
    "print(movie_rating)\n",
    " "
   ]
  },
  {
   "cell_type": "markdown",
   "id": "80778a61",
   "metadata": {},
   "source": [
    "# 3. Use the movie_ratings dataframe to create a bar chart showing count of the top 5 ratings."
   ]
  },
  {
   "cell_type": "code",
   "execution_count": 99,
   "id": "134fb4fe",
   "metadata": {},
   "outputs": [],
   "source": [
    "# sample....\n",
    "\n",
    "# fig, ax = plt.subplots()\n",
    "\n",
    "# fruits = ['apple', 'blueberry', 'cherry', 'orange']\n",
    "# counts = [40, 100, 30, 55]\n",
    "# bar_labels = ['red', 'blue', '_red', 'orange']\n",
    "# bar_colors = ['tab:red', 'tab:blue', 'tab:red', 'tab:orange']\n",
    "\n",
    "# ax.bar(fruits, counts, label=bar_labels, color=bar_colors)\n",
    "\n",
    "# ax.set_ylabel('fruit supply')\n",
    "# ax.set_title('Fruit supply by kind and color')\n",
    "# ax.legend(title='Fruit color')\n",
    "\n",
    "# plt.show()\n"
   ]
  },
  {
   "cell_type": "code",
   "execution_count": 36,
   "id": "30591943",
   "metadata": {},
   "outputs": [
    {
     "ename": "NameError",
     "evalue": "name 'rating' is not defined",
     "output_type": "error",
     "traceback": [
      "\u001b[1;31m---------------------------------------------------------------------------\u001b[0m",
      "\u001b[1;31mNameError\u001b[0m                                 Traceback (most recent call last)",
      "Cell \u001b[1;32mIn[36], line 3\u001b[0m\n\u001b[0;32m      1\u001b[0m plt\u001b[38;5;241m.\u001b[39mtitle(\u001b[38;5;124m'\u001b[39m\u001b[38;5;124mMovie Ratings\u001b[39m\u001b[38;5;124m'\u001b[39m)\n\u001b[0;32m      2\u001b[0m x\u001b[38;5;241m=\u001b[39m\u001b[38;5;28mlist\u001b[39m(count_rating)\n\u001b[1;32m----> 3\u001b[0m y\u001b[38;5;241m=\u001b[39m rating\n\u001b[0;32m      4\u001b[0m bar_labels \u001b[38;5;241m=\u001b[39m [\u001b[38;5;124m'\u001b[39m\u001b[38;5;124mred\u001b[39m\u001b[38;5;124m'\u001b[39m, \u001b[38;5;124m'\u001b[39m\u001b[38;5;124mblue\u001b[39m\u001b[38;5;124m'\u001b[39m, \u001b[38;5;124m'\u001b[39m\u001b[38;5;124m_red\u001b[39m\u001b[38;5;124m'\u001b[39m, \u001b[38;5;124m'\u001b[39m\u001b[38;5;124morange\u001b[39m\u001b[38;5;124m'\u001b[39m] \n\u001b[0;32m      5\u001b[0m bar_colors \u001b[38;5;241m=\u001b[39m [\u001b[38;5;124m'\u001b[39m\u001b[38;5;124mtab:red\u001b[39m\u001b[38;5;124m'\u001b[39m, \u001b[38;5;124m'\u001b[39m\u001b[38;5;124mtab:blue\u001b[39m\u001b[38;5;124m'\u001b[39m, \u001b[38;5;124m'\u001b[39m\u001b[38;5;124mtab:red\u001b[39m\u001b[38;5;124m'\u001b[39m, \u001b[38;5;124m'\u001b[39m\u001b[38;5;124mtab:orange\u001b[39m\u001b[38;5;124m'\u001b[39m]\n",
      "\u001b[1;31mNameError\u001b[0m: name 'rating' is not defined"
     ]
    },
    {
     "data": {
      "image/png": "[encoded data removed]",
      "text/plain": [
       "<Figure size 640x480 with 1 Axes>"
      ]
     },
     "metadata": {},
     "output_type": "display_data"
    }
   ],
   "source": [
    "plt.title('Movie Ratings')\n",
    "x=list(count_rating)\n",
    "y= rating\n",
    "bar_labels = ['red', 'blue', '_red', 'orange'] \n",
    "bar_colors = ['tab:red', 'tab:blue', 'tab:red', 'tab:orange']\n",
    "plt.xlabel(count)\n",
    "plt.ylabel(rating)\n",
    "plt.bar(x,y)\n",
    "plt.show()"
   ]
  },
  {
   "cell_type": "markdown",
   "id": "c4ce72f7",
   "metadata": {},
   "source": [
    "# 4. Using the movies_df, subset the data to create a new dataframe named \"year_duration\" that only consists of 2 columns, release_year and duration."
   ]
  },
  {
   "cell_type": "code",
   "execution_count": 41,
   "id": "7c67b9e0",
   "metadata": {},
   "outputs": [],
   "source": [
    "df['year_duration']= df['release_year'] + df['duration']\n"
   ]
  },
  {
   "cell_type": "markdown",
   "id": "19e3b834",
   "metadata": {},
   "source": [
    "# 5. Find min, max, and average duration of movies from the 1975-1984."
   ]
  },
  {
   "cell_type": "code",
   "execution_count": 72,
   "id": "7b3a0f99",
   "metadata": {},
   "outputs": [
    {
     "name": "stdout",
     "output_type": "stream",
     "text": [
      "1\n"
     ]
    }
   ],
   "source": [
    "movies = df[(df['release_year'] >= 1975) & (df['release_year'] <= 1984)]\n",
    "min_movies = movies[movies['duration_units'] == \"min\"]\n",
    "min_movies = movies['duration'].min()\n",
    "print(min_movies)"
   ]
  },
  {
   "cell_type": "code",
   "execution_count": 71,
   "id": "6e3a5911",
   "metadata": {},
   "outputs": [
    {
     "name": "stdout",
     "output_type": "stream",
     "text": [
      "135\n"
     ]
    }
   ],
   "source": [
    "#max_moves\n",
    "movies = df[(df['release_year'] >= 1975) & (df['release_year'] <= 1984)]\n",
    "max_movies = movies[movies['duration_units'] == \"min\"]\n",
    "max_movies = movies['duration'].max()\n",
    "print(max_movies)"
   ]
  },
  {
   "cell_type": "code",
   "execution_count": 74,
   "id": "f6d2e42d",
   "metadata": {},
   "outputs": [
    {
     "name": "stdout",
     "output_type": "stream",
     "text": [
      "79.3157894736842\n"
     ]
    }
   ],
   "source": [
    "#average_movies\n",
    "movies = df[(df['release_year'] >= 1975) & (df['release_year'] <= 1984)]\n",
    "avg_movies = movies[movies['duration_units'] == \"min\"]\n",
    "avg_movies = movies['duration'].mean()\n",
    "print(avg_movies)"
   ]
  },
  {
   "cell_type": "markdown",
   "id": "ead85e76",
   "metadata": {},
   "source": [
    "#  6.Create a scatterplot using year_duration that looks at movie durations over the years.  Do you notice any correlation from inspecting the scatterplot?"
   ]
  },
  {
   "cell_type": "code",
   "execution_count": null,
   "id": "8364a246",
   "metadata": {},
   "outputs": [],
   "source": []
  },
  {
   "cell_type": "markdown",
   "id": "ef4b3a72",
   "metadata": {},
   "source": [
    "# 7. Find the actual correlation value, is there any correlation?"
   ]
  },
  {
   "cell_type": "code",
   "execution_count": null,
   "id": "42b27b72",
   "metadata": {},
   "outputs": [],
   "source": []
  },
  {
   "cell_type": "markdown",
   "id": "73552e0e",
   "metadata": {},
   "source": [
    "# 8. Use movie_df to find which year had the most G-rated releases. Can you do this in a single line of code?"
   ]
  },
  {
   "cell_type": "code",
   "execution_count": 101,
   "id": "cccb295a",
   "metadata": {},
   "outputs": [
    {
     "data": {
      "text/plain": [
       "release_year  rating  \n",
       "1928          TV-Y7       1\n",
       "1932          TV-Y7       2\n",
       "              TV-G        1\n",
       "1933          TV-Y7       2\n",
       "              TV-G        1\n",
       "                         ..\n",
       "2021          TV-Y        5\n",
       "              G           3\n",
       "              TV-Y7-FV    3\n",
       "              TV-Y7       2\n",
       "              PG-13       1\n",
       "Name: count, Length: 342, dtype: int64"
      ]
     },
     "execution_count": 101,
     "metadata": {},
     "output_type": "execute_result"
    }
   ],
   "source": [
    "G_rated = df.groupby([\"release_year\"]), df.groupby([\"rating\"]).value_counts()\n",
    " \n",
    "G_string"
   ]
  },
  {
   "cell_type": "markdown",
   "id": "ae7e151d",
   "metadata": {},
   "source": [
    "# 9. Which year had the most movie releases?  What percentage of movies that year had durations over 2 hours?"
   ]
  },
  {
   "cell_type": "code",
   "execution_count": 102,
   "id": "5298c1f2",
   "metadata": {},
   "outputs": [
    {
     "ename": "TypeError",
     "evalue": "'DataFrameGroupBy' object is not callable",
     "output_type": "error",
     "traceback": [
      "\u001b[1;31m---------------------------------------------------------------------------\u001b[0m",
      "\u001b[1;31mTypeError\u001b[0m                                 Traceback (most recent call last)",
      "Cell \u001b[1;32mIn[102], line 1\u001b[0m\n\u001b[1;32m----> 1\u001b[0m count_movies \u001b[38;5;241m=\u001b[39m df\u001b[38;5;241m.\u001b[39mgroupby(\u001b[38;5;124m'\u001b[39m\u001b[38;5;124mrelease_year\u001b[39m\u001b[38;5;124m'\u001b[39m)([\u001b[38;5;124m'\u001b[39m\u001b[38;5;124mtype\u001b[39m\u001b[38;5;124m'\u001b[39m])\u001b[38;5;241m.\u001b[39mvalue_counts()\n",
      "\u001b[1;31mTypeError\u001b[0m: 'DataFrameGroupBy' object is not callable"
     ]
    }
   ],
   "source": [
    "count_movies = df.groupby('release_year')(['type']).value_counts()"
   ]
  },
  {
   "cell_type": "markdown",
   "id": "0d85248d",
   "metadata": {},
   "source": [
    "# 10. Create a new column in movies_df that catagorizes each movie as either short, average, or long.  Short movies should be 30 mins or less, long movies should be over 2 hours."
   ]
  },
  {
   "cell_type": "code",
   "execution_count": null,
   "id": "a33eb883",
   "metadata": {},
   "outputs": [],
   "source": []
  },
  {
   "cell_type": "markdown",
   "id": "603cb93d",
   "metadata": {},
   "source": [
    "# 11. Make a pie chart of the above movie lengths."
   ]
  },
  {
   "cell_type": "code",
   "execution_count": null,
   "id": "4aa012fc",
   "metadata": {},
   "outputs": [],
   "source": []
  },
  {
   "cell_type": "markdown",
   "id": "5c26ec29",
   "metadata": {},
   "source": [
    "# 12. Which movie had the greatest gap from the year it was released to the year it was added? **Hint:** You might want to convert the date_added column to a datetime format so that you can easily extract the year from it.  What is the average number of years between release to being added?"
   ]
  },
  {
   "cell_type": "code",
   "execution_count": null,
   "id": "55ca3d7e",
   "metadata": {},
   "outputs": [],
   "source": []
  },
  {
   "cell_type": "markdown",
   "id": "6807a731",
   "metadata": {},
   "source": [
    "# 13. How many movies were added during the first year after the pandemic lockdown? (Assume the lockdown began on March 16, 2020)"
   ]
  },
  {
   "cell_type": "code",
   "execution_count": null,
   "id": "25f4b0b1",
   "metadata": {},
   "outputs": [],
   "source": []
  },
  {
   "cell_type": "markdown",
   "id": "a0561cac",
   "metadata": {},
   "source": [
    "# 14. How many movies have been added on your birthday?"
   ]
  },
  {
   "cell_type": "code",
   "execution_count": null,
   "id": "b43f8d17",
   "metadata": {},
   "outputs": [],
   "source": []
  },
  {
   "cell_type": "markdown",
   "id": "ce13660b",
   "metadata": {},
   "source": [
    "# 15. How many TV shows or Movies have the word 'dog' in the title regardless if it is capitalized?"
   ]
  },
  {
   "cell_type": "code",
   "execution_count": null,
   "id": "9f981fbb",
   "metadata": {},
   "outputs": [],
   "source": []
  }
 ],
 "metadata": {
  "kernelspec": {
   "display_name": "Python 3 (ipykernel)",
   "language": "python",
   "name": "python3"
  },
  "language_info": {
   "codemirror_mode": {
    "name": "ipython",
    "version": 3
   },
   "file_extension": ".py",
   "mimetype": "text/x-python",
   "name": "python",
   "nbconvert_exporter": "python",
   "pygments_lexer": "ipython3",
   "version": "3.11.7"
  }
 },
 "nbformat": 4,
 "nbformat_minor": 5
}
